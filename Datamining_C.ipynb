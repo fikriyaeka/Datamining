{
  "nbformat": 4,
  "nbformat_minor": 0,
  "metadata": {
    "colab": {
      "name": "Datamining C",
      "provenance": [],
      "collapsed_sections": [],
      "authorship_tag": "ABX9TyMFsS8fDQA9WDYXmD70hNYW",
      "include_colab_link": true
    },
    "kernelspec": {
      "name": "python3",
      "display_name": "Python 3"
    }
  },
  "cells": [
    {
      "cell_type": "markdown",
      "metadata": {
        "id": "view-in-github",
        "colab_type": "text"
      },
      "source": [
        "<a href=\"https://colab.research.google.com/github/fikriyaeka/Datamining/blob/master/Datamining_C.ipynb\" target=\"_parent\"><img src=\"https://colab.research.google.com/assets/colab-badge.svg\" alt=\"Open In Colab\"/></a>"
      ]
    },
    {
      "cell_type": "markdown",
      "metadata": {
        "id": "KvDBulOrMO5u"
      },
      "source": [
        " NAMA : FIKRIYA EKA WAHYUNI\n",
        "\n",
        ">\n",
        "\n",
        "\n",
        "NIM  : 192410101003\n",
        "\n",
        "> \n",
        "\n",
        "\n",
        "KELAS: Datamining C "
      ]
    },
    {
      "cell_type": "code",
      "metadata": {
        "id": "4WIOulc-Mu4i",
        "colab": {
          "base_uri": "https://localhost:8080/"
        },
        "outputId": "431cc0ba-fd85-4bee-88a0-a092cd06d061"
      },
      "source": [
        "import numpy as np\n",
        "arr1f = np.array([4,4,5,7,6,4,9,7,4,6,3,7]).reshape(4,3)\n",
        "print(\"KODE 1F\\n\\\"Buatlah Array 2D berikut menggunakan numpy\\\"\\n\")\n",
        "print(arr1f)"
      ],
      "execution_count": null,
      "outputs": [
        {
          "output_type": "stream",
          "text": [
            "KODE 1F\n",
            "\"Buatlah Array 2D berikut menggunakan numpy\"\n",
            "\n",
            "[[4 4 5]\n",
            " [7 6 4]\n",
            " [9 7 4]\n",
            " [6 3 7]]\n"
          ],
          "name": "stdout"
        }
      ]
    },
    {
      "cell_type": "code",
      "metadata": {
        "id": "91mYrZvOMn_w",
        "colab": {
          "base_uri": "https://localhost:8080/"
        },
        "outputId": "481d12fb-16b9-41da-cac0-f4e6310e0766"
      },
      "source": [
        "arr1g = np.array([7,8,5,4,7,7,7,1,9,5,4,10,2,1,2,9,8,5,3,7,3,4,9,9,2,9,3,2,4,8,1,6,6,8,1,3]).reshape(3,4,3)\n",
        "print(\"KODE 1G\\n\\\"Buatlah Array 3D berikut menggunakan numpy\\\"\\n\")\n",
        "print(arr1g)"
      ],
      "execution_count": null,
      "outputs": [
        {
          "output_type": "stream",
          "text": [
            "KODE 1G\n",
            "\"Buatlah Array 3D berikut menggunakan numpy\"\n",
            "\n",
            "[[[ 7  8  5]\n",
            "  [ 4  7  7]\n",
            "  [ 7  1  9]\n",
            "  [ 5  4 10]]\n",
            "\n",
            " [[ 2  1  2]\n",
            "  [ 9  8  5]\n",
            "  [ 3  7  3]\n",
            "  [ 4  9  9]]\n",
            "\n",
            " [[ 2  9  3]\n",
            "  [ 2  4  8]\n",
            "  [ 1  6  6]\n",
            "  [ 8  1  3]]]\n"
          ],
          "name": "stdout"
        }
      ]
    },
    {
      "cell_type": "code",
      "metadata": {
        "id": "tG9Dz9fjNa2B",
        "colab": {
          "base_uri": "https://localhost:8080/"
        },
        "outputId": "1b825f71-9c67-403b-d969-34048d838e56"
      },
      "source": [
        "arr2d = np.array([1,8,8,2,8,2,1,2,10,1,4,7,1,4,7,8,8,2,3,4]).reshape(5,4)\n",
        "print(\"KODE 2D\\n\\\"Tambahkan angka 1 pada setiap bilangan di baris ganjil array berikut. kemudian tambahkan angka 2 pada setiap bilangan di kolom genap array berikut \\\"\\n\")\n",
        "print(arr2d)\n",
        "\n",
        "arr2d[1::2]+=1\n",
        "arr2d[:,::2]+=2\n",
        "\n",
        "print(\"\\n{SETELAH DITAMBAH}\\n\")\n",
        "print(arr2d)"
      ],
      "execution_count": null,
      "outputs": [
        {
          "output_type": "stream",
          "text": [
            "KODE 2D\n",
            "\"Tambahkan angka 1 pada setiap bilangan di baris ganjil array berikut. kemudian tambahkan angka 2 pada setiap bilangan di kolom genap array berikut \"\n",
            "\n",
            "[[ 1  8  8  2]\n",
            " [ 8  2  1  2]\n",
            " [10  1  4  7]\n",
            " [ 1  4  7  8]\n",
            " [ 8  2  3  4]]\n",
            "\n",
            "{SETELAH DITAMBAH}\n",
            "\n",
            "[[ 3  8 10  2]\n",
            " [11  3  4  3]\n",
            " [12  1  6  7]\n",
            " [ 4  5 10  9]\n",
            " [10  2  5  4]]\n"
          ],
          "name": "stdout"
        }
      ]
    },
    {
      "cell_type": "code",
      "metadata": {
        "id": "MIY7HjPENfMN",
        "colab": {
          "base_uri": "https://localhost:8080/"
        },
        "outputId": "50f790e7-fbc8-48cf-fbe0-d94546fd9fa6"
      },
      "source": [
        "arr2e=arr1g.copy()\n",
        "print(\"KODE 2E\\n\\\"Baliklah sumbu z array 3D berikut \\\"\\n\")\n",
        "print(arr2e)\n",
        "arr2e=np.flipud(arr2e)\n",
        "print(\"\\n{SETELAH DIBALIK}\\n\")\n",
        "print(arr2e)"
      ],
      "execution_count": null,
      "outputs": [
        {
          "output_type": "stream",
          "text": [
            "KODE 2E\n",
            "\"Baliklah sumbu z array 3D berikut \"\n",
            "\n",
            "[[[ 7  8  5]\n",
            "  [ 4  7  7]\n",
            "  [ 7  1  9]\n",
            "  [ 5  4 10]]\n",
            "\n",
            " [[ 2  1  2]\n",
            "  [ 9  8  5]\n",
            "  [ 3  7  3]\n",
            "  [ 4  9  9]]\n",
            "\n",
            " [[ 2  9  3]\n",
            "  [ 2  4  8]\n",
            "  [ 1  6  6]\n",
            "  [ 8  1  3]]]\n",
            "\n",
            "{SETELAH DIBALIK}\n",
            "\n",
            "[[[ 2  9  3]\n",
            "  [ 2  4  8]\n",
            "  [ 1  6  6]\n",
            "  [ 8  1  3]]\n",
            "\n",
            " [[ 2  1  2]\n",
            "  [ 9  8  5]\n",
            "  [ 3  7  3]\n",
            "  [ 4  9  9]]\n",
            "\n",
            " [[ 7  8  5]\n",
            "  [ 4  7  7]\n",
            "  [ 7  1  9]\n",
            "  [ 5  4 10]]]\n"
          ],
          "name": "stdout"
        }
      ]
    },
    {
      "cell_type": "code",
      "metadata": {
        "id": "q7gnlASCNj8y",
        "colab": {
          "base_uri": "https://localhost:8080/"
        },
        "outputId": "c38c1e30-c68f-4858-d01b-05dc00bc2280"
      },
      "source": [
        "arr2f = arr2e.reshape(6,6)\n",
        "print(\"KODE 2F\\n\\\"Ubahlah array pada soal e menadi array 2D berukuran 6 x 6  \\\"\\n\")\n",
        "print(arr2f)"
      ],
      "execution_count": null,
      "outputs": [
        {
          "output_type": "stream",
          "text": [
            "KODE 2F\n",
            "\"Ubahlah array pada soal e menadi array 2D berukuran 6 x 6  \"\n",
            "\n",
            "[[ 2  9  3  2  4  8]\n",
            " [ 1  6  6  8  1  3]\n",
            " [ 2  1  2  9  8  5]\n",
            " [ 3  7  3  4  9  9]\n",
            " [ 7  8  5  4  7  7]\n",
            " [ 7  1  9  5  4 10]]\n"
          ],
          "name": "stdout"
        }
      ]
    },
    {
      "cell_type": "code",
      "metadata": {
        "id": "MMn9r5j-N1sn",
        "colab": {
          "base_uri": "https://localhost:8080/"
        },
        "outputId": "1c2ab6ba-110e-4c38-ccfc-9803b448e688"
      },
      "source": [
        "arr3e = np.array([5,10,10,7,7,8,4,10,9,10,2,5,1,8,9,3,6,10,5,2,4,6,9,4]).reshape(6,4)\n",
        "print(\"KODE 3E\\n\\\"Ubahlah matrix kiri menjadi matrix sebelah kanan  \\\"\\n\")\n",
        "print(arr3e)\n",
        "new = arr3e.copy()\n",
        "arr3e[0:3,0:2],arr3e[3:6,2:4],arr3e[3:6,0:2],arr3e[0:3,2:4]=new[3:6,2:4],new[0:3,0:2],new[0:3,2:4],new[3:6,0:2]\n",
        "print(\"\\n{SETELAH DIUBAH}\\n\")\n",
        "print(arr3e)"
      ],
      "execution_count": null,
      "outputs": [
        {
          "output_type": "stream",
          "text": [
            "KODE 3E\n",
            "\"Ubahlah matrix kiri menjadi matrix sebelah kanan  \"\n",
            "\n",
            "[[ 5 10 10  7]\n",
            " [ 7  8  4 10]\n",
            " [ 9 10  2  5]\n",
            " [ 1  8  9  3]\n",
            " [ 6 10  5  2]\n",
            " [ 4  6  9  4]]\n",
            "\n",
            "{SETELAH DIUBAH}\n",
            "\n",
            "[[ 9  3  1  8]\n",
            " [ 5  2  6 10]\n",
            " [ 9  4  4  6]\n",
            " [10  7  5 10]\n",
            " [ 4 10  7  8]\n",
            " [ 2  5  9 10]]\n"
          ],
          "name": "stdout"
        }
      ]
    }
  ]
}