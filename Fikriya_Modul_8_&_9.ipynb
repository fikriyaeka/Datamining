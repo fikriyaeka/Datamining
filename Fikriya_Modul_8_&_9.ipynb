{
  "nbformat": 4,
  "nbformat_minor": 0,
  "metadata": {
    "colab": {
      "name": "Fikriya - Modul 8 & 9",
      "provenance": [],
      "authorship_tag": "ABX9TyMqz2juXoCo3974QKV434He",
      "include_colab_link": true
    },
    "kernelspec": {
      "name": "python3",
      "display_name": "Python 3"
    },
    "language_info": {
      "name": "python"
    }
  },
  "cells": [
    {
      "cell_type": "markdown",
      "metadata": {
        "id": "view-in-github",
        "colab_type": "text"
      },
      "source": [
        "<a href=\"https://colab.research.google.com/github/fikriyaeka/Datamining/blob/master/Fikriya_Modul_8_%26_9.ipynb\" target=\"_parent\"><img src=\"https://colab.research.google.com/assets/colab-badge.svg\" alt=\"Open In Colab\"/></a>"
      ]
    },
    {
      "cell_type": "markdown",
      "metadata": {
        "id": "uld1ZbHAsWzK"
      },
      "source": [
        "\n",
        "NAMA : FIKRIYA EKA WAHYUNI\n",
        "\n",
        "NIM : 192410101003\n",
        "\n",
        "KELAS : Datamining C"
      ]
    },
    {
      "cell_type": "markdown",
      "metadata": {
        "id": "Et5YUqnPseOV"
      },
      "source": [
        " **Praktikum 8 dan 9 datamining\n",
        "Perceptron dan ensemble classification**\n",
        "\n",
        "\n",
        "![..jpg](data:image/jpeg;base64,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)\n",
        "\n",
        "\n",
        "1. Ulangi proses klasifikasi menggunakan perceptron pada dataset  wine dan breastcancer. Masing masing gunakan perbandingan 0.2, 0.3, 0.4. tuliskan akurasinya\n",
        "2. Ulangi proses klasifikasi menggunakan bagging dengan base classifier perceptron pada dataset  wine dan breastcancer. Gunakan perbandingan test set 0,Masing masing gunakan perbandingan n_estmators = 100, 200, dan 300. tuliskan akurasinya\n",
        "\n"
      ]
    },
    {
      "cell_type": "code",
      "metadata": {
        "id": "ol_caFAesvua"
      },
      "source": [
        "import numpy as np\n",
        "import pandas as pd\n",
        "from sklearn import datasets\n",
        "from sklearn.preprocessing import StandardScaler\n",
        "from sklearn.linear_model import Perceptron\n",
        "from sklearn.model_selection import train_test_split\n",
        "from sklearn.metrics import accuracy_score\n",
        "from sklearn.ensemble import BaggingClassifier"
      ],
      "execution_count": null,
      "outputs": []
    },
    {
      "cell_type": "code",
      "metadata": {
        "colab": {
          "base_uri": "https://localhost:8080/"
        },
        "id": "YvAOFujPuLZq",
        "outputId": "4df696c7-0a20-4409-823e-f3c326e770fa"
      },
      "source": [
        "#DATASET WINE\n",
        "wine = datasets.load_wine()\n",
        "\n",
        "wineFrame = pd.DataFrame(wine.data)\n",
        "print(wineFrame.head())"
      ],
      "execution_count": null,
      "outputs": [
        {
          "output_type": "stream",
          "text": [
            "      0     1     2     3      4     5   ...    7     8     9     10    11      12\n",
            "0  14.23  1.71  2.43  15.6  127.0  2.80  ...  0.28  2.29  5.64  1.04  3.92  1065.0\n",
            "1  13.20  1.78  2.14  11.2  100.0  2.65  ...  0.26  1.28  4.38  1.05  3.40  1050.0\n",
            "2  13.16  2.36  2.67  18.6  101.0  2.80  ...  0.30  2.81  5.68  1.03  3.17  1185.0\n",
            "3  14.37  1.95  2.50  16.8  113.0  3.85  ...  0.24  2.18  7.80  0.86  3.45  1480.0\n",
            "4  13.24  2.59  2.87  21.0  118.0  2.80  ...  0.39  1.82  4.32  1.04  2.93   735.0\n",
            "\n",
            "[5 rows x 13 columns]\n"
          ],
          "name": "stdout"
        }
      ]
    },
    {
      "cell_type": "code",
      "metadata": {
        "id": "h0l3qDp3uQ97"
      },
      "source": [
        "# Melakukan Train Test \n",
        "X = wine.data\n",
        "Y = wine.target\n",
        "\n",
        "X_train1, X_test1, Y_train1, Y_test1 = train_test_split(X, Y, test_size = 0.2)\n",
        "X_train2, X_test2, Y_train2, Y_test2 = train_test_split(X, Y, test_size = 0.3)\n",
        "X_train3, X_test3, Y_train3, Y_test3 = train_test_split(X, Y, test_size = 0.4)"
      ],
      "execution_count": null,
      "outputs": []
    },
    {
      "cell_type": "code",
      "metadata": {
        "id": "PZPXUksquV9t"
      },
      "source": [
        "# Melakukan standard scaler\n",
        "sc = StandardScaler()\n",
        "\n",
        "sc.fit(X_train1)\n",
        "X_train1_std = sc.transform(X_train1)\n",
        "X_test1_std = sc.transform(X_test1)\n",
        "\n",
        "sc.fit(X_train2)\n",
        "X_train2_std = sc.transform(X_train2)\n",
        "X_test2_std = sc.transform(X_test2)\n",
        "\n",
        "sc.fit(X_train3)\n",
        "X_train3_std = sc.transform(X_train3)\n",
        "X_test3_std = sc.transform(X_test3)"
      ],
      "execution_count": null,
      "outputs": []
    },
    {
      "cell_type": "code",
      "metadata": {
        "colab": {
          "base_uri": "https://localhost:8080/"
        },
        "id": "A41jKMoGucOc",
        "outputId": "c591977c-c85e-408d-f2b6-cba91cb9dea2"
      },
      "source": [
        "# Melakukan perceptron\n",
        "pct = Perceptron(eta0 = 0.1, random_state = 0)\n",
        "\n",
        "pct.fit(X_train1_std, Y_train1)\n",
        "Y_pred1 = pct.predict(X_test1_std)\n",
        "print(\"Test 0.2 Accuracy : %.2f\" % accuracy_score(Y_test1, Y_pred1))\n",
        "\n",
        "pct.fit(X_train2_std, Y_train2)\n",
        "Y_pred2 = pct.predict(X_test2_std)\n",
        "print(\"Test 0.3 Accuracy : %.2f\" % accuracy_score(Y_test2, Y_pred2))\n",
        "\n",
        "pct.fit(X_train3_std, Y_train3)\n",
        "Y_pred3 = pct.predict(X_test3_std)\n",
        "print(\"Test 0.4 Accuracy : %.2f\" % accuracy_score(Y_test3, Y_pred3))"
      ],
      "execution_count": null,
      "outputs": [
        {
          "output_type": "stream",
          "text": [
            "Test 0.2 Accuracy : 0.97\n",
            "Test 0.3 Accuracy : 0.98\n",
            "Test 0.4 Accuracy : 0.99\n"
          ],
          "name": "stdout"
        }
      ]
    },
    {
      "cell_type": "code",
      "metadata": {
        "colab": {
          "base_uri": "https://localhost:8080/"
        },
        "id": "HlXoGyKdumjW",
        "outputId": "cc85526d-6c0c-4bc8-f774-924aecd80701"
      },
      "source": [
        "# DATASET CANCER\n",
        "cancer = datasets.load_breast_cancer()\n",
        "\n",
        "cancerFrame = pd.DataFrame(cancer.data)\n",
        "print(cancerFrame.head())"
      ],
      "execution_count": null,
      "outputs": [
        {
          "output_type": "stream",
          "text": [
            "      0      1       2       3   ...      26      27      28       29\n",
            "0  17.99  10.38  122.80  1001.0  ...  0.7119  0.2654  0.4601  0.11890\n",
            "1  20.57  17.77  132.90  1326.0  ...  0.2416  0.1860  0.2750  0.08902\n",
            "2  19.69  21.25  130.00  1203.0  ...  0.4504  0.2430  0.3613  0.08758\n",
            "3  11.42  20.38   77.58   386.1  ...  0.6869  0.2575  0.6638  0.17300\n",
            "4  20.29  14.34  135.10  1297.0  ...  0.4000  0.1625  0.2364  0.07678\n",
            "\n",
            "[5 rows x 30 columns]\n"
          ],
          "name": "stdout"
        }
      ]
    },
    {
      "cell_type": "code",
      "metadata": {
        "id": "giVEU99OurSt"
      },
      "source": [
        "# Melakukan train test \n",
        "X = cancer.data\n",
        "Y = cancer.target\n",
        "\n",
        "X_train1, X_test1, Y_train1, Y_test1 = train_test_split(X, Y, test_size = 0.2)\n",
        "X_train2, X_test2, Y_train2, Y_test2 = train_test_split(X, Y, test_size = 0.3)\n",
        "X_train3, X_test3, Y_train3, Y_test3 = train_test_split(X, Y, test_size = 0.4)"
      ],
      "execution_count": null,
      "outputs": []
    },
    {
      "cell_type": "code",
      "metadata": {
        "id": "5alpmHEmux9I"
      },
      "source": [
        "# Melakukan standard scaler\n",
        "sc = StandardScaler()\n",
        "\n",
        "sc.fit(X_train1)\n",
        "X_train1_std = sc.transform(X_train1)\n",
        "X_test1_std = sc.transform(X_test1)\n",
        "\n",
        "sc.fit(X_train2)\n",
        "X_train2_std = sc.transform(X_train2)\n",
        "X_test2_std = sc.transform(X_test2)\n",
        "\n",
        "sc.fit(X_train3)\n",
        "X_train3_std = sc.transform(X_train3)\n",
        "X_test3_std = sc.transform(X_test3)"
      ],
      "execution_count": null,
      "outputs": []
    },
    {
      "cell_type": "code",
      "metadata": {
        "colab": {
          "base_uri": "https://localhost:8080/"
        },
        "id": "cqePZwjeu32t",
        "outputId": "e9bce573-9e55-4d33-d73e-0b444d5f6a5c"
      },
      "source": [
        "# Melakukan perceptron\n",
        "pct = Perceptron(eta0 = 0.1, random_state = 0)\n",
        "\n",
        "pct.fit(X_train1_std, Y_train1)\n",
        "Y_pred1 = pct.predict(X_test1_std)\n",
        "print(\"Test 0.2 Accuracy : %.2f\" % accuracy_score(Y_test1, Y_pred1))\n",
        "\n",
        "pct.fit(X_train2_std, Y_train2)\n",
        "Y_pred2 = pct.predict(X_test2_std)\n",
        "print(\"Test 0.3 Accuracy : %.2f\" % accuracy_score(Y_test2, Y_pred2))\n",
        "\n",
        "pct.fit(X_train3_std, Y_train3)\n",
        "Y_pred3 = pct.predict(X_test3_std)\n",
        "print(\"Test 0.4 Accuracy : %.2f\" % accuracy_score(Y_test3, Y_pred3))"
      ],
      "execution_count": null,
      "outputs": [
        {
          "output_type": "stream",
          "text": [
            "Test 0.2 Accuracy : 0.98\n",
            "Test 0.3 Accuracy : 0.95\n",
            "Test 0.4 Accuracy : 0.97\n"
          ],
          "name": "stdout"
        }
      ]
    },
    {
      "cell_type": "code",
      "metadata": {
        "id": "ywoLEtoVvC1x"
      },
      "source": [
        "# Menggunakan WINE Bagging\n",
        "wine = datasets.load_wine()\n",
        "X = wine.data\n",
        "Y = wine.target\n",
        "\n",
        "X_train1, X_test1, Y_train1, Y_test1 = train_test_split(X, Y, test_size = 0.3)\n",
        "\n",
        "#standard scaler\n",
        "sc = StandardScaler()\n",
        "\n",
        "sc.fit(X_train1)\n",
        "X_train1_std = sc.transform(X_train1)\n",
        "X_test1_std = sc.transform(X_test1)"
      ],
      "execution_count": null,
      "outputs": []
    },
    {
      "cell_type": "code",
      "metadata": {
        "colab": {
          "base_uri": "https://localhost:8080/"
        },
        "id": "o-Y22Ag_vFA-",
        "outputId": "5c5f04b7-9277-4626-c89d-3b1e412d8ef6"
      },
      "source": [
        "\n",
        "# Melakukan bagging classifier\n",
        "pct = Perceptron(eta0 = 0.1, random_state = 0)\n",
        "\n",
        "bc1 = BaggingClassifier(base_estimator = pct, n_estimators = 100, n_jobs = -1)\n",
        "bc1.fit(X_train1_std, Y_train1)\n",
        "Y_pred1 = bc1.predict(X_test1_std)\n",
        "print(\"Estimator 100 Accuracy : %.2f\" % accuracy_score(Y_test1, Y_pred1))\n",
        "\n",
        "bc2 = BaggingClassifier(base_estimator = pct, n_estimators = 200, n_jobs = -1)\n",
        "bc2.fit(X_train2_std, Y_train2)\n",
        "Y_pred2 = bc2.predict(X_test2_std)\n",
        "print(\"Estimator 200 Accuracy : %.2f\" % accuracy_score(Y_test2, Y_pred2))\n",
        "\n",
        "bc3 = BaggingClassifier(base_estimator = pct, n_estimators = 300, n_jobs = -1)\n",
        "bc3.fit(X_train3_std, Y_train3)\n",
        "Y_pred3 = bc3.predict(X_test3_std)\n",
        "print(\"Estimator 300 Accuracy : %.2f\" % accuracy_score(Y_test3, Y_pred3))"
      ],
      "execution_count": null,
      "outputs": [
        {
          "output_type": "stream",
          "text": [
            "Estimator 100 Accuracy : 0.98\n",
            "Estimator 200 Accuracy : 0.95\n",
            "Estimator 300 Accuracy : 0.98\n"
          ],
          "name": "stdout"
        }
      ]
    },
    {
      "cell_type": "code",
      "metadata": {
        "id": "ma1fT3M6vL5Q"
      },
      "source": [
        "# Menggunakan CANCER Bagging\n",
        "cancer = datasets.load_breast_cancer()\n",
        "X = cancer.data\n",
        "Y = cancer.target\n",
        "\n",
        "X_train1, X_test1, Y_train1, Y_test1 = train_test_split(X, Y, test_size = 0.3)\n",
        "\n",
        "#standard scaler\n",
        "sc = StandardScaler()\n",
        "\n",
        "sc.fit(X_train1)\n",
        "X_train1_std = sc.transform(X_train1)\n",
        "X_test1_std = sc.transform(X_test1)"
      ],
      "execution_count": null,
      "outputs": []
    },
    {
      "cell_type": "code",
      "metadata": {
        "colab": {
          "base_uri": "https://localhost:8080/"
        },
        "id": "-Tb43teivQ2_",
        "outputId": "09eb54a1-d549-40a5-c504-56d87a259308"
      },
      "source": [
        "# Melakukan bagging classifier\n",
        "pct = Perceptron(eta0 = 0.1, random_state = 0)\n",
        "\n",
        "bc1 = BaggingClassifier(base_estimator = pct, n_estimators = 100, n_jobs = -1)\n",
        "bc1.fit(X_train1_std, Y_train1)\n",
        "Y_pred1 = bc1.predict(X_test1_std)\n",
        "print(\"Estimator 100 Accuracy : %.2f\" % accuracy_score(Y_test1, Y_pred1))\n",
        "\n",
        "bc2 = BaggingClassifier(base_estimator = pct, n_estimators = 200, n_jobs = -1)\n",
        "bc2.fit(X_train2_std, Y_train2)\n",
        "Y_pred2 = bc2.predict(X_test2_std)\n",
        "print(\"Estimator 200 Accuracy : %.2f\" % accuracy_score(Y_test2, Y_pred2))\n",
        "\n",
        "bc3 = BaggingClassifier(base_estimator = pct, n_estimators = 300, n_jobs = -1)\n",
        "bc3.fit(X_train3_std, Y_train3)\n",
        "Y_pred3 = bc3.predict(X_test3_std)\n",
        "print(\"Estimator 300 Accuracy : %.2f\" % accuracy_score(Y_test3, Y_pred3))"
      ],
      "execution_count": null,
      "outputs": [
        {
          "output_type": "stream",
          "text": [
            "Estimator 100 Accuracy : 0.98\n",
            "Estimator 200 Accuracy : 0.95\n",
            "Estimator 300 Accuracy : 0.98\n"
          ],
          "name": "stdout"
        }
      ]
    }
  ]
}